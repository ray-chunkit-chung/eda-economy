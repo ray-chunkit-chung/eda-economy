{
 "cells": [
  {
   "cell_type": "code",
   "execution_count": null,
   "id": "fbbb328c",
   "metadata": {},
   "outputs": [],
   "source": [
    "a = {\"year\": 2023, \"bonds\": [{\"name\": \"bond1\", \"value\": 1000}, {\"name\": \"bond2\"}]}\n",
    "\n",
    "\n",
    "\n",
    "a = {\"year\": 2023, \"bonds\": [{\"name\": \"bond1\", \"value\": 1000}, {\"name\": \"bond2\", \"value\": 2000}]}\n",
    "\n",
    "\n"
   ]
  }
 ],
 "metadata": {
  "language_info": {
   "name": "python"
  }
 },
 "nbformat": 4,
 "nbformat_minor": 5
}
