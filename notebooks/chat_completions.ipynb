{
 "cells": [
  {
   "cell_type": "code",
   "execution_count": 4,
   "id": "d1da55df",
   "metadata": {},
   "outputs": [],
   "source": [
    "import os\n",
    "from dotenv import load_dotenv\n",
    "from openai import OpenAI\n",
    "from pydantic import BaseModel, Field\n",
    "from pprint import pprint\n",
    "import json\n",
    "\n",
    "# Load environment variables from .env file\n",
    "load_dotenv(dotenv_path=\".env\")\n",
    "OPENAI_API_KEY = os.getenv(\"OPENAI_API_KEY\")\n",
    "MODEL_WEB_SEARCH = os.getenv(\"MODEL_WEB_SEARCH\", \"gpt-4o-mini\")\n",
    "# WEB_SEARCH_MODEL = os.getenv(\"WEB_SEARCH_MODEL\", \"gpt-4.1-mini\")\n",
    "\n",
    "# Initialize the client with API key from environment\n",
    "client = OpenAI(api_key=OPENAI_API_KEY)\n",
    "\n",
    "\n"
   ]
  },
  {
   "cell_type": "code",
   "execution_count": null,
   "id": "73f6f7ec",
   "metadata": {},
   "outputs": [],
   "source": [
    "class News(BaseModel):\n",
    "    title: str\n",
    "    content: str\n",
    "    # url: str = Field(..., alias=\"link\")"
   ]
  },
  {
   "cell_type": "code",
   "execution_count": 11,
   "id": "7c68bc35",
   "metadata": {},
   "outputs": [],
   "source": [
    "response = client.responses.parse(\n",
    "    model=MODEL_WEB_SEARCH,\n",
    "    temperature=0,\n",
    "    tools=[{\"type\": \"web_search_preview\"}],\n",
    "    text_format=News,\n",
    "    input=\"What was a positive news story from today?\",\n",
    ")"
   ]
  },
  {
   "cell_type": "code",
   "execution_count": 12,
   "id": "34faeda0",
   "metadata": {},
   "outputs": [
    {
     "name": "stdout",
     "output_type": "stream",
     "text": [
      "{'content': 'Here are some uplifting news stories from today:\\n'\n",
      "            '\\n'\n",
      "            '**1. Global Work-Life Balance Shift**\\n'\n",
      "            '\\n'\n",
      "            'A recent international study reveals that work-life balance has '\n",
      "            'now surpassed pay as the primary motivator for employees '\n",
      "            'worldwide. Conducted by Dutch recruitment company Randstad, the '\n",
      "            'survey of 26,000 workers across 35 countries found that 83% '\n",
      "            'prioritize work-life balance over pay (82%). This trend aligns '\n",
      "            'with the growing adoption of four-day workweeks and flexible '\n",
      "            'working arrangements. \\n'\n",
      "            '\\n'\n",
      "            \"**2. DRC's Commitment to Conservation**\\n\"\n",
      "            '\\n'\n",
      "            'The Democratic Republic of Congo has pledged to establish the '\n",
      "            \"world's largest protected tropical reserve, covering an area \"\n",
      "            'approximately the size of France. Known as the Couloir Vert '\n",
      "            \"('Green Corridor'), this reserve aims to conserve vast tracts of \"\n",
      "            'the Congo Basin, including forests and peatlands, which are vital '\n",
      "            'carbon sinks and biodiversity hotspots. \\n'\n",
      "            '\\n'\n",
      "            '**3. Thailand Legalizes Same-Sex Marriage**\\n'\n",
      "            '\\n'\n",
      "            'Thailand has officially legalized same-sex marriage, becoming the '\n",
      "            'third Asian country after Taiwan and Nepal to do so. The Marriage '\n",
      "            'Equality Act, effective today, grants same-sex couples the same '\n",
      "            'financial, adoption, and inheritance rights as heterosexual '\n",
      "            'couples. Prime Minister Paetongtarn Shinawatra emphasized that '\n",
      "            'love knows no limits or expectations, ensuring equal protection '\n",
      "            'under the law for all. \\n'\n",
      "            '\\n'\n",
      "            '**4. Solar Energy Milestone in the EU**\\n'\n",
      "            '\\n'\n",
      "            'For the first time, solar energy has generated more electricity '\n",
      "            'than coal in the European Union. A report by the energy think '\n",
      "            \"tank Ember found that solar accounted for 11% of the EU's \"\n",
      "            'electricity in 2024, surpassing coal at 10%. This marks a '\n",
      "            \"significant milestone in the EU's transition to renewable energy \"\n",
      "            'sources. \\n'\n",
      "            '\\n'\n",
      "            'These stories highlight positive developments in work culture, '\n",
      "            'environmental conservation, LGBTQ+ rights, and renewable energy, '\n",
      "            'reflecting progress and hope in various sectors.\\n'\n",
      "            '\\n'\n",
      "            '\\n'\n",
      "            '## Positive News Highlights from May 4, 2025:\\n'\n",
      "            '- [What went right this week: a global work reset, plus more - '\n",
      "            'Positive '\n",
      "            'News](https://www.positive.news/society/good-news-stories-from-week-04-of-2025/?utm_source=openai)',\n",
      " 'title': 'Positive News Stories from May 4, 2025'}\n"
     ]
    }
   ],
   "source": [
    "result = response.output_parsed\n",
    "pprint(json.loads(result.json()))"
   ]
  },
  {
   "cell_type": "code",
   "execution_count": 9,
   "id": "13a2891a",
   "metadata": {},
   "outputs": [
    {
     "name": "stdout",
     "output_type": "stream",
     "text": [
      "As of May 4, 2025, here are some positive news stories:\n",
      "\n",
      "**1. Global Work-Life Balance Shift**\n",
      "\n",
      "A recent international study revealed that work-life balance has now surpassed salary as the primary motivator for employees worldwide. Conducted by Dutch recruitment company Randstad, the survey of 26,000 workers across 35 countries found that 83% prioritize work-life balance over pay (82%). This trend aligns with the growing adoption of four-day workweeks and flexible working arrangements. \n",
      "\n",
      "**2. DRC Establishes World's Largest Tropical Forest Reserve**\n",
      "\n",
      "The Democratic Republic of Congo has announced the creation of the Couloir Vert ('Green Corridor'), a protected tropical reserve approximately the size of France. This initiative aims to conserve vast areas of the Congo Basin, the world's largest tropical carbon sink, and is home to diverse species, including eastern lowland gorillas. Environmental groups have welcomed the move, emphasizing its potential role in addressing climate and biodiversity crises. \n",
      "\n",
      "**3. Thailand Legalizes Same-Sex Marriage**\n",
      "\n",
      "Thailand has become the third Asian country, after Taiwan and Nepal, to legalize same-sex marriage. The Marriage Equality Act, effective from Thursday, grants same-sex couples the same financial, adoption, and inheritance rights as heterosexual couples. Prime Minister Paetongtarn Shinawatra stated, \"No matter your gender or who you love, love knows no limits or expectations.\" \n",
      "\n",
      "**4. Solar Energy Surpasses Coal in EU Electricity Generation**\n",
      "\n",
      "For the first time, solar energy has generated more electricity than coal in the European Union. A report by the energy think tank Ember found that solar accounted for 11% of the EU's electricity in 2024, surpassing coal at 10%. This milestone signifies a significant shift towards renewable energy sources in the EU. \n",
      "\n",
      "These stories highlight positive developments in work culture, environmental conservation, LGBTQ+ rights, and renewable energy adoption. \n"
     ]
    }
   ],
   "source": [
    "result = response.output_text\n",
    "print(result)"
   ]
  },
  {
   "cell_type": "code",
   "execution_count": null,
   "id": "ca045004",
   "metadata": {},
   "outputs": [],
   "source": []
  },
  {
   "cell_type": "code",
   "execution_count": null,
   "id": "23860e53",
   "metadata": {},
   "outputs": [],
   "source": []
  }
 ],
 "metadata": {
  "kernelspec": {
   "display_name": ".venv",
   "language": "python",
   "name": "python3"
  },
  "language_info": {
   "codemirror_mode": {
    "name": "ipython",
    "version": 3
   },
   "file_extension": ".py",
   "mimetype": "text/x-python",
   "name": "python",
   "nbconvert_exporter": "python",
   "pygments_lexer": "ipython3",
   "version": "3.11.9"
  }
 },
 "nbformat": 4,
 "nbformat_minor": 5
}
